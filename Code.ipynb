{
 "cells": [
  {
   "cell_type": "markdown",
   "metadata": {},
   "source": [
    "# Import modules and data"
   ]
  },
  {
   "cell_type": "code",
   "execution_count": 1,
   "metadata": {},
   "outputs": [],
   "source": [
    "import numpy as np\n",
    "import pandas as pd\n",
    "import matplotlib.pyplot as plt\n",
    "import seaborn as sns\n",
    "\n",
    "%matplotlib inline"
   ]
  },
  {
   "cell_type": "code",
   "execution_count": 2,
   "metadata": {},
   "outputs": [],
   "source": [
    "data = pd.read_csv('homework_data_set.csv', index_col=[0])"
   ]
  },
  {
   "cell_type": "markdown",
   "metadata": {},
   "source": [
    "# EDA"
   ]
  },
  {
   "cell_type": "markdown",
   "metadata": {},
   "source": [
    "### Basic Information"
   ]
  },
  {
   "cell_type": "code",
   "execution_count": 3,
   "metadata": {},
   "outputs": [
    {
     "data": {
      "text/html": [
       "<div>\n",
       "<style scoped>\n",
       "    .dataframe tbody tr th:only-of-type {\n",
       "        vertical-align: middle;\n",
       "    }\n",
       "\n",
       "    .dataframe tbody tr th {\n",
       "        vertical-align: top;\n",
       "    }\n",
       "\n",
       "    .dataframe thead th {\n",
       "        text-align: right;\n",
       "    }\n",
       "</style>\n",
       "<table border=\"1\" class=\"dataframe\">\n",
       "  <thead>\n",
       "    <tr style=\"text-align: right;\">\n",
       "      <th></th>\n",
       "      <th>advertiser_id</th>\n",
       "      <th>assigned</th>\n",
       "      <th>date_assignment_starts</th>\n",
       "      <th>date_assignment_ends</th>\n",
       "      <th>first_revenue_date</th>\n",
       "      <th>date_created</th>\n",
       "      <th>age</th>\n",
       "      <th>assign_days</th>\n",
       "      <th>revenue</th>\n",
       "    </tr>\n",
       "  </thead>\n",
       "  <tbody>\n",
       "    <tr>\n",
       "      <th>0</th>\n",
       "      <td>485</td>\n",
       "      <td>1</td>\n",
       "      <td>2017-02-01 00:00:00.000000</td>\n",
       "      <td>2017-06-19 12:12:37.888680</td>\n",
       "      <td>NaN</td>\n",
       "      <td>2006-07-14</td>\n",
       "      <td>3855</td>\n",
       "      <td>138</td>\n",
       "      <td>NaN</td>\n",
       "    </tr>\n",
       "    <tr>\n",
       "      <th>1</th>\n",
       "      <td>598</td>\n",
       "      <td>1</td>\n",
       "      <td>2017-02-01 00:00:00.000000</td>\n",
       "      <td>2017-06-19 12:12:37.888680</td>\n",
       "      <td>NaN</td>\n",
       "      <td>2006-08-02</td>\n",
       "      <td>3836</td>\n",
       "      <td>138</td>\n",
       "      <td>NaN</td>\n",
       "    </tr>\n",
       "    <tr>\n",
       "      <th>2</th>\n",
       "      <td>673</td>\n",
       "      <td>1</td>\n",
       "      <td>2017-02-01 00:00:00.000000</td>\n",
       "      <td>2017-04-28 15:36:30.000000</td>\n",
       "      <td>NaN</td>\n",
       "      <td>2006-08-17</td>\n",
       "      <td>3821</td>\n",
       "      <td>86</td>\n",
       "      <td>NaN</td>\n",
       "    </tr>\n",
       "    <tr>\n",
       "      <th>3</th>\n",
       "      <td>813</td>\n",
       "      <td>1</td>\n",
       "      <td>2017-02-01 00:00:00.000000</td>\n",
       "      <td>2017-06-19 12:12:37.888680</td>\n",
       "      <td>NaN</td>\n",
       "      <td>2006-09-12</td>\n",
       "      <td>3795</td>\n",
       "      <td>138</td>\n",
       "      <td>NaN</td>\n",
       "    </tr>\n",
       "    <tr>\n",
       "      <th>4</th>\n",
       "      <td>1132</td>\n",
       "      <td>1</td>\n",
       "      <td>2017-02-01 00:00:00.000000</td>\n",
       "      <td>2017-06-19 12:12:37.888680</td>\n",
       "      <td>NaN</td>\n",
       "      <td>2006-11-02</td>\n",
       "      <td>3744</td>\n",
       "      <td>138</td>\n",
       "      <td>NaN</td>\n",
       "    </tr>\n",
       "  </tbody>\n",
       "</table>\n",
       "</div>"
      ],
      "text/plain": [
       "   advertiser_id  assigned      date_assignment_starts  \\\n",
       "0            485         1  2017-02-01 00:00:00.000000   \n",
       "1            598         1  2017-02-01 00:00:00.000000   \n",
       "2            673         1  2017-02-01 00:00:00.000000   \n",
       "3            813         1  2017-02-01 00:00:00.000000   \n",
       "4           1132         1  2017-02-01 00:00:00.000000   \n",
       "\n",
       "         date_assignment_ends first_revenue_date date_created   age  \\\n",
       "0  2017-06-19 12:12:37.888680                NaN   2006-07-14  3855   \n",
       "1  2017-06-19 12:12:37.888680                NaN   2006-08-02  3836   \n",
       "2  2017-04-28 15:36:30.000000                NaN   2006-08-17  3821   \n",
       "3  2017-06-19 12:12:37.888680                NaN   2006-09-12  3795   \n",
       "4  2017-06-19 12:12:37.888680                NaN   2006-11-02  3744   \n",
       "\n",
       "   assign_days  revenue  \n",
       "0          138      NaN  \n",
       "1          138      NaN  \n",
       "2           86      NaN  \n",
       "3          138      NaN  \n",
       "4          138      NaN  "
      ]
     },
     "execution_count": 3,
     "metadata": {},
     "output_type": "execute_result"
    }
   ],
   "source": [
    "data.head()"
   ]
  },
  {
   "cell_type": "code",
   "execution_count": 4,
   "metadata": {},
   "outputs": [
    {
     "name": "stdout",
     "output_type": "stream",
     "text": [
      "<class 'pandas.core.frame.DataFrame'>\n",
      "Int64Index: 77891 entries, 0 to 77890\n",
      "Data columns (total 9 columns):\n",
      "advertiser_id             77891 non-null int64\n",
      "assigned                  77891 non-null int64\n",
      "date_assignment_starts    77891 non-null object\n",
      "date_assignment_ends      77891 non-null object\n",
      "first_revenue_date        8433 non-null object\n",
      "date_created              77891 non-null object\n",
      "age                       77891 non-null int64\n",
      "assign_days               77891 non-null int64\n",
      "revenue                   3340 non-null float64\n",
      "dtypes: float64(1), int64(4), object(4)\n",
      "memory usage: 5.9+ MB\n"
     ]
    }
   ],
   "source": [
    "data.info()"
   ]
  },
  {
   "cell_type": "code",
   "execution_count": 5,
   "metadata": {
    "scrolled": true
   },
   "outputs": [
    {
     "data": {
      "text/html": [
       "<div>\n",
       "<style scoped>\n",
       "    .dataframe tbody tr th:only-of-type {\n",
       "        vertical-align: middle;\n",
       "    }\n",
       "\n",
       "    .dataframe tbody tr th {\n",
       "        vertical-align: top;\n",
       "    }\n",
       "\n",
       "    .dataframe thead th {\n",
       "        text-align: right;\n",
       "    }\n",
       "</style>\n",
       "<table border=\"1\" class=\"dataframe\">\n",
       "  <thead>\n",
       "    <tr style=\"text-align: right;\">\n",
       "      <th></th>\n",
       "      <th>advertiser_id</th>\n",
       "      <th>assigned</th>\n",
       "      <th>age</th>\n",
       "      <th>assign_days</th>\n",
       "      <th>revenue</th>\n",
       "    </tr>\n",
       "  </thead>\n",
       "  <tbody>\n",
       "    <tr>\n",
       "      <th>count</th>\n",
       "      <td>7.789100e+04</td>\n",
       "      <td>77891.000000</td>\n",
       "      <td>77891.000000</td>\n",
       "      <td>77891.000000</td>\n",
       "      <td>3.340000e+03</td>\n",
       "    </tr>\n",
       "    <tr>\n",
       "      <th>mean</th>\n",
       "      <td>7.924271e+06</td>\n",
       "      <td>0.476037</td>\n",
       "      <td>309.958532</td>\n",
       "      <td>120.482546</td>\n",
       "      <td>4.865177e+07</td>\n",
       "    </tr>\n",
       "    <tr>\n",
       "      <th>std</th>\n",
       "      <td>3.918985e+06</td>\n",
       "      <td>0.499429</td>\n",
       "      <td>488.801166</td>\n",
       "      <td>39.527908</td>\n",
       "      <td>1.736891e+08</td>\n",
       "    </tr>\n",
       "    <tr>\n",
       "      <th>min</th>\n",
       "      <td>4.850000e+02</td>\n",
       "      <td>0.000000</td>\n",
       "      <td>-27.000000</td>\n",
       "      <td>-2.000000</td>\n",
       "      <td>1.200000e+04</td>\n",
       "    </tr>\n",
       "    <tr>\n",
       "      <th>25%</th>\n",
       "      <td>4.317428e+06</td>\n",
       "      <td>0.000000</td>\n",
       "      <td>0.000000</td>\n",
       "      <td>136.000000</td>\n",
       "      <td>6.398444e+06</td>\n",
       "    </tr>\n",
       "    <tr>\n",
       "      <th>50%</th>\n",
       "      <td>1.078788e+07</td>\n",
       "      <td>0.000000</td>\n",
       "      <td>0.000000</td>\n",
       "      <td>137.000000</td>\n",
       "      <td>1.514775e+07</td>\n",
       "    </tr>\n",
       "    <tr>\n",
       "      <th>75%</th>\n",
       "      <td>1.080747e+07</td>\n",
       "      <td>1.000000</td>\n",
       "      <td>523.000000</td>\n",
       "      <td>138.000000</td>\n",
       "      <td>3.704959e+07</td>\n",
       "    </tr>\n",
       "    <tr>\n",
       "      <th>max</th>\n",
       "      <td>1.119963e+07</td>\n",
       "      <td>1.000000</td>\n",
       "      <td>3855.000000</td>\n",
       "      <td>138.000000</td>\n",
       "      <td>6.533791e+09</td>\n",
       "    </tr>\n",
       "  </tbody>\n",
       "</table>\n",
       "</div>"
      ],
      "text/plain": [
       "       advertiser_id      assigned           age   assign_days       revenue\n",
       "count   7.789100e+04  77891.000000  77891.000000  77891.000000  3.340000e+03\n",
       "mean    7.924271e+06      0.476037    309.958532    120.482546  4.865177e+07\n",
       "std     3.918985e+06      0.499429    488.801166     39.527908  1.736891e+08\n",
       "min     4.850000e+02      0.000000    -27.000000     -2.000000  1.200000e+04\n",
       "25%     4.317428e+06      0.000000      0.000000    136.000000  6.398444e+06\n",
       "50%     1.078788e+07      0.000000      0.000000    137.000000  1.514775e+07\n",
       "75%     1.080747e+07      1.000000    523.000000    138.000000  3.704959e+07\n",
       "max     1.119963e+07      1.000000   3855.000000    138.000000  6.533791e+09"
      ]
     },
     "execution_count": 5,
     "metadata": {},
     "output_type": "execute_result"
    }
   ],
   "source": [
    "data.describe()"
   ]
  },
  {
   "cell_type": "code",
   "execution_count": 6,
   "metadata": {},
   "outputs": [],
   "source": [
    "# drop advertiser_id because it is not meaningful in this anlysis\n",
    "data.drop('advertiser_id', axis=1, inplace=True)"
   ]
  },
  {
   "cell_type": "code",
   "execution_count": 7,
   "metadata": {
    "scrolled": true
   },
   "outputs": [
    {
     "data": {
      "text/plain": [
       "assigned                   0.000000\n",
       "date_assignment_starts     0.000000\n",
       "date_assignment_ends       0.000000\n",
       "first_revenue_date        89.173332\n",
       "date_created               0.000000\n",
       "age                        0.000000\n",
       "assign_days                0.000000\n",
       "revenue                   95.711956\n",
       "dtype: float64"
      ]
     },
     "execution_count": 7,
     "metadata": {},
     "output_type": "execute_result"
    }
   ],
   "source": [
    "# check missing values\n",
    "data.isna().sum()/len(data)*100"
   ]
  },
  {
   "cell_type": "markdown",
   "metadata": {},
   "source": [
    "#### There are two columns having missing values, but they are not problems because a missing value in these variables means that revenue did not occur. So, we could consider them as 'nothing' or '0'."
   ]
  },
  {
   "cell_type": "markdown",
   "metadata": {},
   "source": [
    "### Plots for contiunous variables"
   ]
  },
  {
   "cell_type": "code",
   "execution_count": 8,
   "metadata": {
    "scrolled": true
   },
   "outputs": [
    {
     "data": {
      "text/plain": [
       "0    40812\n",
       "1    37079\n",
       "Name: assigned, dtype: int64"
      ]
     },
     "execution_count": 8,
     "metadata": {},
     "output_type": "execute_result"
    },
    {
     "data": {
      "image/png": "[encoded data removed]",
      "text/plain": [
       "<Figure size 432x288 with 1 Axes>"
      ]
     },
     "metadata": {
      "needs_background": "light"
     },
     "output_type": "display_data"
    }
   ],
   "source": [
    "# Population between two groups\n",
    "sns.countplot(data['assigned'])\n",
    "data['assigned'].value_counts()"
   ]
  },
  {
   "cell_type": "code",
   "execution_count": 9,
   "metadata": {
    "scrolled": true
   },
   "outputs": [
    {
     "data": {
      "text/plain": [
       "assigned\n",
       "0    2.388942e+07\n",
       "1    7.673686e+07\n",
       "Name: revenue, dtype: float64"
      ]
     },
     "execution_count": 9,
     "metadata": {},
     "output_type": "execute_result"
    }
   ],
   "source": [
    "# Average revenue between two groups\n",
    "data.groupby('assigned').mean()['revenue']"
   ]
  },
  {
   "cell_type": "code",
   "execution_count": 10,
   "metadata": {},
   "outputs": [
    {
     "data": {
      "text/plain": [
       "<matplotlib.axes._subplots.AxesSubplot at 0x193b6b55080>"
      ]
     },
     "execution_count": 10,
     "metadata": {},
     "output_type": "execute_result"
    },
    {
     "data": {
      "image/png": "[encoded data removed]",
      "text/plain": [
       "<Figure size 432x288 with 1 Axes>"
      ]
     },
     "metadata": {
      "needs_background": "light"
     },
     "output_type": "display_data"
    }
   ],
   "source": [
    "# Age\n",
    "sns.boxplot(x='assigned', y='age', data=data)"
   ]
  },
  {
   "cell_type": "code",
   "execution_count": 11,
   "metadata": {},
   "outputs": [
    {
     "data": {
      "text/plain": [
       "<matplotlib.axes._subplots.AxesSubplot at 0x193b6bd2d68>"
      ]
     },
     "execution_count": 11,
     "metadata": {},
     "output_type": "execute_result"
    },
    {
     "data": {
      "image/png": "[encoded data removed]",
      "text/plain": [
       "<Figure size 432x288 with 1 Axes>"
      ]
     },
     "metadata": {
      "needs_background": "light"
     },
     "output_type": "display_data"
    }
   ],
   "source": [
    "# Assign_days\n",
    "sns.distplot(data[data['assigned']==1]['assign_days'], bins=30, color='red')\n",
    "sns.distplot(data[data['assigned']==0]['assign_days'], bins=30, color='blue')"
   ]
  },
  {
   "cell_type": "code",
   "execution_count": 12,
   "metadata": {},
   "outputs": [
    {
     "data": {
      "text/plain": [
       "<matplotlib.axes._subplots.AxesSubplot at 0x193b6cfb588>"
      ]
     },
     "execution_count": 12,
     "metadata": {},
     "output_type": "execute_result"
    },
    {
     "data": {
      "image/png": "[encoded data removed]",
      "text/plain": [
       "<Figure size 720x720 with 1 Axes>"
      ]
     },
     "metadata": {
      "needs_background": "light"
     },
     "output_type": "display_data"
    }
   ],
   "source": [
    "# Revenue\n",
    "plt.figure(figsize=(10,10))\n",
    "sns.distplot(data[data['assigned']==1]['revenue'].dropna()/1000000, bins=30, axlabel='revenue (million)', color='red')\n",
    "sns.distplot(data[data['assigned']==0]['revenue'].dropna()/1000000, bins=30, axlabel='revenue (million)', color='blue')"
   ]
  },
  {
   "cell_type": "code",
   "execution_count": 13,
   "metadata": {},
   "outputs": [
    {
     "data": {
      "text/plain": [
       "<matplotlib.axes._subplots.AxesSubplot at 0x193b6de3780>"
      ]
     },
     "execution_count": 13,
     "metadata": {},
     "output_type": "execute_result"
    },
    {
     "data": {
      "image/png": "[encoded data removed]",
      "text/plain": [
       "<Figure size 432x288 with 1 Axes>"
      ]
     },
     "metadata": {
      "needs_background": "light"
     },
     "output_type": "display_data"
    }
   ],
   "source": [
    "# Revenue\n",
    "sns.stripplot(x='assigned', y='revenue', data=data, jitter=True)"
   ]
  },
  {
   "cell_type": "markdown",
   "metadata": {},
   "source": [
    "#### There is one outlier in the unassigned group. I will drop this observation because it will skew a prediction."
   ]
  },
  {
   "cell_type": "code",
   "execution_count": 14,
   "metadata": {},
   "outputs": [
    {
     "data": {
      "text/plain": [
       "75791"
      ]
     },
     "execution_count": 14,
     "metadata": {},
     "output_type": "execute_result"
    }
   ],
   "source": [
    "# Find the outlier\n",
    "data['revenue'].idxmax()"
   ]
  },
  {
   "cell_type": "code",
   "execution_count": 15,
   "metadata": {},
   "outputs": [],
   "source": [
    "# Drop the outlier\n",
    "data.drop(75791, inplace=True)"
   ]
  },
  {
   "cell_type": "markdown",
   "metadata": {},
   "source": [
    "# Feature Engineering"
   ]
  },
  {
   "cell_type": "markdown",
   "metadata": {},
   "source": [
    "### Time variables"
   ]
  },
  {
   "cell_type": "markdown",
   "metadata": {},
   "source": [
    "##### In the beginning, my plan was to calculate a gap between 'first_revenue_date' and 'date_created' to define 'time_to_first_sale', and then I made bins to keep NaN values as a categorical value(Total 7 bins). However, after conducting modeling, I changed my plan because the result shows a little bit of complex interpretation and high p-values due to dummy variables. Therefore, I got rid of the below part."
   ]
  },
  {
   "cell_type": "code",
   "execution_count": null,
   "metadata": {},
   "outputs": [],
   "source": [
    "# # Calculate the gap between 'first_revenue_date' and 'date_created'\n",
    "# data['time_to_first_sale'] = data['first_revenue_date'] - data['date_created']\n",
    "# data['time_to_first_sale'] = data['time_to_first_sale'].dt.days\n",
    "\n",
    "# sns.distplot(data['time_to_first_sale'].dropna(), bins=30)\n",
    "\n",
    "# # Make bins for time_to_first_sale: This variable has a lot of missing values but I cannot impute it because it doesn't make sense. \n",
    "# # In this case, I think that missing value is also meaningful, so I'll keep it as a categorical value through binning\n",
    "\n",
    "# # Convert NaN to string\n",
    "# data['time_to_first_sale'] = data['time_to_first_sale'].fillna('Missing')\n",
    "\n",
    "# # Binning function\n",
    "# def binning(x):\n",
    "#     a = x.copy()\n",
    "#     b = x.copy()\n",
    "#     c = x[x != 'Missing']\n",
    "    \n",
    "#     b = b.apply(lambda y: str(y) if y == 'Missing' else y)\n",
    "    \n",
    "#     bins = [0,100,200,300,400,500,1000000]\n",
    "#     labels=['0','100','200','300','400','500']\n",
    "    \n",
    "    \n",
    "#     c = pd.cut(c, bins=bins, labels=labels, include_lowest=True).astype(str)\n",
    "        \n",
    "#     a.update(b)\n",
    "#     a.update(c)\n",
    "#     a\n",
    "#     return a\n",
    "\n",
    "# data['time_to_first_sale'] = binning(data['time_to_first_sale'])\n",
    "\n",
    "# # Get dummy for time_to_first_sale\n",
    "# data = pd.get_dummies(data, columns = ['time_to_first_sale'], drop_first=True)"
   ]
  },
  {
   "cell_type": "code",
   "execution_count": 16,
   "metadata": {},
   "outputs": [],
   "source": [
    "# Convert data type from object to datetime\n",
    "time_var = ['date_assignment_starts', 'date_assignment_ends','first_revenue_date','date_created']\n",
    "for var in time_var:\n",
    "    data[var] = pd.to_datetime(data[var], format='%Y-%m-%d')"
   ]
  },
  {
   "cell_type": "markdown",
   "metadata": {},
   "source": [
    "##### Instead of binning 'time_to_first_sale', I will make a new feature, 'previous sales', by using 'first_revenue_date'. That is, if there is a value in 'first_revenue_data', the 'previous_sales' column is 1, if not, it is 0. However, if 'first_revenue_date' is later than 'date_assignment_starts', the 'previous_sales' column should be 0."
   ]
  },
  {
   "cell_type": "code",
   "execution_count": 17,
   "metadata": {
    "scrolled": true
   },
   "outputs": [],
   "source": [
    "data['previous_sales'] = data['first_revenue_date'].apply(lambda x: 0 if str(x) is 'NaT' else 1)"
   ]
  },
  {
   "cell_type": "code",
   "execution_count": 18,
   "metadata": {},
   "outputs": [],
   "source": [
    "late_sales =  (data['date_assignment_starts'] < data['first_revenue_date']) & (data['date_assignment_ends'] > data['first_revenue_date'])\n",
    "data['late_sales'] = late_sales.astype(int)"
   ]
  },
  {
   "cell_type": "code",
   "execution_count": 19,
   "metadata": {},
   "outputs": [],
   "source": [
    "data['previous_sales'] = data['previous_sales'] - data['late_sales']"
   ]
  },
  {
   "cell_type": "code",
   "execution_count": 20,
   "metadata": {},
   "outputs": [],
   "source": [
    "# Drop unnecessary date variables because 'assign_days' is calculated from 'date_assignment_starts' and 'date_assignment_ends', \n",
    "# and also  'previous_sales' is derived from 'first_revenue_date' and'late_sales'.\n",
    "data.drop(['date_assignment_starts', 'date_assignment_ends','first_revenue_date','late_sales'], axis=1, inplace=True)"
   ]
  },
  {
   "cell_type": "code",
   "execution_count": 21,
   "metadata": {},
   "outputs": [],
   "source": [
    "# Convert datetime to unix timestamp for modeling\n",
    "data['date_created'] = data['date_created'].apply(lambda x: x.timestamp()) / (24*60*60) # To make it daily base data"
   ]
  },
  {
   "cell_type": "markdown",
   "metadata": {},
   "source": [
    "### Revenue"
   ]
  },
  {
   "cell_type": "code",
   "execution_count": 22,
   "metadata": {},
   "outputs": [],
   "source": [
    "# Create a new column to check whether there is revenue or not(true or false)\n",
    "\n",
    "data['revenue_tf'] = data['revenue'].apply(lambda x: 1 if x > 0 else 0)"
   ]
  },
  {
   "cell_type": "code",
   "execution_count": 23,
   "metadata": {},
   "outputs": [],
   "source": [
    "# Convert NaN to 0 because it is actually zero.\n",
    "\n",
    "data['revenue']= data['revenue'].fillna(0)"
   ]
  },
  {
   "cell_type": "markdown",
   "metadata": {},
   "source": [
    "### Correlation"
   ]
  },
  {
   "cell_type": "code",
   "execution_count": 24,
   "metadata": {
    "scrolled": false
   },
   "outputs": [
    {
     "data": {
      "text/plain": [
       "<matplotlib.axes._subplots.AxesSubplot at 0x193b6afbcc0>"
      ]
     },
     "execution_count": 24,
     "metadata": {},
     "output_type": "execute_result"
    },
    {
     "data": {
      "image/png": "[encoded data removed]",
      "text/plain": [
       "<Figure size 576x576 with 2 Axes>"
      ]
     },
     "metadata": {
      "needs_background": "light"
     },
     "output_type": "display_data"
    }
   ],
   "source": [
    "plt.figure(figsize=(8,8))\n",
    "sns.heatmap(data.corr(), cmap='coolwarm',annot=True)"
   ]
  },
  {
   "cell_type": "markdown",
   "metadata": {},
   "source": [
    "#### As you can see, date_created and age have a 100% negative correlation. It is not helpful for modeling, so I will drop age because the age column has unreasonable value."
   ]
  },
  {
   "cell_type": "code",
   "execution_count": 25,
   "metadata": {},
   "outputs": [],
   "source": [
    "# Drop age\n",
    "data.drop('age', axis=1, inplace=True)"
   ]
  },
  {
   "cell_type": "markdown",
   "metadata": {},
   "source": [
    "### Final Dataset"
   ]
  },
  {
   "cell_type": "code",
   "execution_count": 26,
   "metadata": {},
   "outputs": [
    {
     "data": {
      "text/html": [
       "<div>\n",
       "<style scoped>\n",
       "    .dataframe tbody tr th:only-of-type {\n",
       "        vertical-align: middle;\n",
       "    }\n",
       "\n",
       "    .dataframe tbody tr th {\n",
       "        vertical-align: top;\n",
       "    }\n",
       "\n",
       "    .dataframe thead th {\n",
       "        text-align: right;\n",
       "    }\n",
       "</style>\n",
       "<table border=\"1\" class=\"dataframe\">\n",
       "  <thead>\n",
       "    <tr style=\"text-align: right;\">\n",
       "      <th></th>\n",
       "      <th>assigned</th>\n",
       "      <th>date_created</th>\n",
       "      <th>assign_days</th>\n",
       "      <th>revenue</th>\n",
       "      <th>previous_sales</th>\n",
       "      <th>revenue_tf</th>\n",
       "    </tr>\n",
       "  </thead>\n",
       "  <tbody>\n",
       "    <tr>\n",
       "      <th>0</th>\n",
       "      <td>1</td>\n",
       "      <td>13343.0</td>\n",
       "      <td>138</td>\n",
       "      <td>0.0</td>\n",
       "      <td>0</td>\n",
       "      <td>0</td>\n",
       "    </tr>\n",
       "    <tr>\n",
       "      <th>1</th>\n",
       "      <td>1</td>\n",
       "      <td>13362.0</td>\n",
       "      <td>138</td>\n",
       "      <td>0.0</td>\n",
       "      <td>0</td>\n",
       "      <td>0</td>\n",
       "    </tr>\n",
       "    <tr>\n",
       "      <th>2</th>\n",
       "      <td>1</td>\n",
       "      <td>13377.0</td>\n",
       "      <td>86</td>\n",
       "      <td>0.0</td>\n",
       "      <td>0</td>\n",
       "      <td>0</td>\n",
       "    </tr>\n",
       "    <tr>\n",
       "      <th>3</th>\n",
       "      <td>1</td>\n",
       "      <td>13403.0</td>\n",
       "      <td>138</td>\n",
       "      <td>0.0</td>\n",
       "      <td>0</td>\n",
       "      <td>0</td>\n",
       "    </tr>\n",
       "    <tr>\n",
       "      <th>4</th>\n",
       "      <td>1</td>\n",
       "      <td>13454.0</td>\n",
       "      <td>138</td>\n",
       "      <td>0.0</td>\n",
       "      <td>0</td>\n",
       "      <td>0</td>\n",
       "    </tr>\n",
       "  </tbody>\n",
       "</table>\n",
       "</div>"
      ],
      "text/plain": [
       "   assigned  date_created  assign_days  revenue  previous_sales  revenue_tf\n",
       "0         1       13343.0          138      0.0               0           0\n",
       "1         1       13362.0          138      0.0               0           0\n",
       "2         1       13377.0           86      0.0               0           0\n",
       "3         1       13403.0          138      0.0               0           0\n",
       "4         1       13454.0          138      0.0               0           0"
      ]
     },
     "execution_count": 26,
     "metadata": {},
     "output_type": "execute_result"
    }
   ],
   "source": [
    "data.head()"
   ]
  },
  {
   "cell_type": "markdown",
   "metadata": {},
   "source": [
    "# Modeling"
   ]
  },
  {
   "cell_type": "markdown",
   "metadata": {},
   "source": [
    "#### I think that there are two possibilities for this question: <br> A) sales intervention increases the number of leads spending <br>  B) sales intervention increases the amount of each spending. <br>  At first, I will check the A) possibility"
   ]
  },
  {
   "cell_type": "code",
   "execution_count": 27,
   "metadata": {},
   "outputs": [
    {
     "data": {
      "text/plain": [
       "assigned\n",
       "0    0.043469\n",
       "1    0.042207\n",
       "Name: revenue_tf, dtype: float64"
      ]
     },
     "execution_count": 27,
     "metadata": {},
     "output_type": "execute_result"
    }
   ],
   "source": [
    "# Check the differenc of 'revenue_df' by 'assigned' value\n",
    "data.groupby('assigned').mean()['revenue_tf']"
   ]
  },
  {
   "cell_type": "markdown",
   "metadata": {},
   "source": [
    "#### Everyone might expect that sales intervention increases the number of leads spending. However,  as you can see, 'assigned == 1' shows a lower probability of 'revenue_tf', unlike our expectation. To investigate this, I'll conduct logistic regression."
   ]
  },
  {
   "cell_type": "markdown",
   "metadata": {},
   "source": [
    "## Modeling 1 - Logistic Regression"
   ]
  },
  {
   "cell_type": "code",
   "execution_count": 28,
   "metadata": {
    "scrolled": true
   },
   "outputs": [
    {
     "data": {
      "text/plain": [
       "<matplotlib.axes._subplots.AxesSubplot at 0x193b67efd30>"
      ]
     },
     "execution_count": 28,
     "metadata": {},
     "output_type": "execute_result"
    },
    {
     "data": {
      "image/png": "[encoded data removed]",
      "text/plain": [
       "<Figure size 432x288 with 1 Axes>"
      ]
     },
     "metadata": {
      "needs_background": "light"
     },
     "output_type": "display_data"
    }
   ],
   "source": [
    "sns.countplot(data['revenue_tf'])"
   ]
  },
  {
   "cell_type": "markdown",
   "metadata": {},
   "source": [
    "#### It is clearly imbalanced dataset. To deal with it, I will conduct oversampling method."
   ]
  },
  {
   "cell_type": "markdown",
   "metadata": {},
   "source": [
    "### Train and Test Split"
   ]
  },
  {
   "cell_type": "code",
   "execution_count": 29,
   "metadata": {},
   "outputs": [],
   "source": [
    "from sklearn.model_selection import train_test_split\n",
    "\n",
    "X = data.drop(['revenue','revenue_tf'],axis=1)\n",
    "y = data['revenue_tf']\n",
    "\n",
    "X_train, X_test, y_train, y_test = train_test_split(X, y, test_size = 0.3, random_state=1014)\n",
    "X_columns = X_train.columns"
   ]
  },
  {
   "cell_type": "markdown",
   "metadata": {},
   "source": [
    "### Oversampling - SMOTE"
   ]
  },
  {
   "cell_type": "code",
   "execution_count": 30,
   "metadata": {},
   "outputs": [
    {
     "name": "stderr",
     "output_type": "stream",
     "text": [
      "C:\\Users\\Sihyun Kwon\\Anaconda3\\lib\\site-packages\\sklearn\\externals\\six.py:31: DeprecationWarning: The module is deprecated in version 0.21 and will be removed in version 0.23 since we've dropped support for Python 2.7. Please rely on the official version of six (https://pypi.org/project/six/).\n",
      "  \"(https://pypi.org/project/six/).\", DeprecationWarning)\n"
     ]
    }
   ],
   "source": [
    "from imblearn.over_sampling import SMOTENC\n",
    "categorical_features = [0,3]\n",
    "smote_nc = SMOTENC(categorical_features=categorical_features, random_state=1014, sampling_strategy=.6)\n",
    "X_train, y_train = smote_nc.fit_resample(X_train, y_train)"
   ]
  },
  {
   "cell_type": "code",
   "execution_count": 31,
   "metadata": {},
   "outputs": [
    {
     "data": {
      "text/plain": [
       "<matplotlib.axes._subplots.AxesSubplot at 0x193b83bd8d0>"
      ]
     },
     "execution_count": 31,
     "metadata": {},
     "output_type": "execute_result"
    },
    {
     "data": {
      "image/png": "[encoded data removed]",
      "text/plain": [
       "<Figure size 432x288 with 1 Axes>"
      ]
     },
     "metadata": {
      "needs_background": "light"
     },
     "output_type": "display_data"
    }
   ],
   "source": [
    "sns.countplot(y_train)"
   ]
  },
  {
   "cell_type": "code",
   "execution_count": 32,
   "metadata": {},
   "outputs": [],
   "source": [
    "X_train = pd.DataFrame(X_train, columns=X_columns)"
   ]
  },
  {
   "cell_type": "markdown",
   "metadata": {},
   "source": [
    "### Implementing the model"
   ]
  },
  {
   "cell_type": "code",
   "execution_count": 33,
   "metadata": {},
   "outputs": [
    {
     "name": "stdout",
     "output_type": "stream",
     "text": [
      "Optimization terminated successfully.\n",
      "         Current function value: 0.387445\n",
      "         Iterations 7\n"
     ]
    }
   ],
   "source": [
    "import statsmodels.api as sm\n",
    "logit = sm.Logit(y_train,X_train)\n",
    "result = logit.fit()"
   ]
  },
  {
   "cell_type": "code",
   "execution_count": 34,
   "metadata": {
    "scrolled": false
   },
   "outputs": [
    {
     "name": "stdout",
     "output_type": "stream",
     "text": [
      "                           Logit Regression Results                           \n",
      "==============================================================================\n",
      "Dep. Variable:                      y   No. Observations:                83504\n",
      "Model:                          Logit   Df Residuals:                    83500\n",
      "Method:                           MLE   Df Model:                            3\n",
      "Date:                Sun, 19 Jan 2020   Pseudo R-squ.:                  0.4143\n",
      "Time:                        17:38:38   Log-Likelihood:                -32353.\n",
      "converged:                       True   LL-Null:                       -55243.\n",
      "Covariance Type:            nonrobust   LLR p-value:                     0.000\n",
      "==================================================================================\n",
      "                     coef    std err          z      P>|z|      [0.025      0.975]\n",
      "----------------------------------------------------------------------------------\n",
      "assigned          -0.9378      0.023    -41.601      0.000      -0.982      -0.894\n",
      "date_created    4.956e-07   1.48e-06      0.335      0.738   -2.41e-06     3.4e-06\n",
      "assign_days       -0.0118      0.000    -57.820      0.000      -0.012      -0.011\n",
      "previous_sales     4.0061      0.027    150.982      0.000       3.954       4.058\n",
      "==================================================================================\n"
     ]
    }
   ],
   "source": [
    "print(result.summary())"
   ]
  },
  {
   "cell_type": "markdown",
   "metadata": {},
   "source": [
    "#### In this result, p-values are almost zero except for two dummy variables. So, we can trust the coefficient of most variables here."
   ]
  },
  {
   "cell_type": "code",
   "execution_count": 35,
   "metadata": {},
   "outputs": [
    {
     "data": {
      "text/plain": [
       "assigned           0.391477\n",
       "date_created       1.000000\n",
       "assign_days        0.988244\n",
       "previous_sales    54.932600\n",
       "dtype: float64"
      ]
     },
     "execution_count": 35,
     "metadata": {},
     "output_type": "execute_result"
    }
   ],
   "source": [
    "# odds ratio\n",
    "np.exp(result.params)"
   ]
  },
  {
   "cell_type": "code",
   "execution_count": 36,
   "metadata": {},
   "outputs": [
    {
     "data": {
      "text/html": [
       "<div>\n",
       "<style scoped>\n",
       "    .dataframe tbody tr th:only-of-type {\n",
       "        vertical-align: middle;\n",
       "    }\n",
       "\n",
       "    .dataframe tbody tr th {\n",
       "        vertical-align: top;\n",
       "    }\n",
       "\n",
       "    .dataframe thead th {\n",
       "        text-align: right;\n",
       "    }\n",
       "</style>\n",
       "<table border=\"1\" class=\"dataframe\">\n",
       "  <thead>\n",
       "    <tr style=\"text-align: right;\">\n",
       "      <th></th>\n",
       "      <th>date_created</th>\n",
       "      <th>assign_days</th>\n",
       "      <th>revenue</th>\n",
       "      <th>previous_sales</th>\n",
       "      <th>revenue_tf</th>\n",
       "    </tr>\n",
       "    <tr>\n",
       "      <th>assigned</th>\n",
       "      <th></th>\n",
       "      <th></th>\n",
       "      <th></th>\n",
       "      <th></th>\n",
       "      <th></th>\n",
       "    </tr>\n",
       "  </thead>\n",
       "  <tbody>\n",
       "    <tr>\n",
       "      <th>0</th>\n",
       "      <td>17186.851486</td>\n",
       "      <td>124.017936</td>\n",
       "      <td>8.789278e+05</td>\n",
       "      <td>0.037416</td>\n",
       "      <td>0.043469</td>\n",
       "    </tr>\n",
       "    <tr>\n",
       "      <th>1</th>\n",
       "      <td>16560.213247</td>\n",
       "      <td>116.594487</td>\n",
       "      <td>3.238846e+06</td>\n",
       "      <td>0.130316</td>\n",
       "      <td>0.042207</td>\n",
       "    </tr>\n",
       "  </tbody>\n",
       "</table>\n",
       "</div>"
      ],
      "text/plain": [
       "          date_created  assign_days       revenue  previous_sales  revenue_tf\n",
       "assigned                                                                     \n",
       "0         17186.851486   124.017936  8.789278e+05        0.037416    0.043469\n",
       "1         16560.213247   116.594487  3.238846e+06        0.130316    0.042207"
      ]
     },
     "execution_count": 36,
     "metadata": {},
     "output_type": "execute_result"
    }
   ],
   "source": [
    "data.groupby('assigned').mean()"
   ]
  },
  {
   "cell_type": "markdown",
   "metadata": {},
   "source": [
    "#### According to the result, 'assigned' reduces the probability of generating revenue('revenue_tf') by about 61%. On the other hand, only 'previous_sales' shows a positive relationship with a huge odds ratio. (based on p < 0.05)"
   ]
  },
  {
   "cell_type": "markdown",
   "metadata": {},
   "source": [
    "### Model Evaluation\n",
    "#### It is actually not an important part of this question. Just to check whether we can trust logistic regression with this data, I will evaluate it with classification report"
   ]
  },
  {
   "cell_type": "code",
   "execution_count": 37,
   "metadata": {},
   "outputs": [
    {
     "name": "stderr",
     "output_type": "stream",
     "text": [
      "C:\\Users\\Sihyun Kwon\\Anaconda3\\lib\\site-packages\\sklearn\\linear_model\\logistic.py:432: FutureWarning: Default solver will be changed to 'lbfgs' in 0.22. Specify a solver to silence this warning.\n",
      "  FutureWarning)\n"
     ]
    }
   ],
   "source": [
    "from sklearn.linear_model import LogisticRegression\n",
    "from sklearn.metrics import classification_report\n",
    "\n",
    "lr = LogisticRegression()\n",
    "lr.fit(X_train, y_train)\n",
    "pred = lr.predict(X_test)"
   ]
  },
  {
   "cell_type": "code",
   "execution_count": 38,
   "metadata": {},
   "outputs": [
    {
     "name": "stdout",
     "output_type": "stream",
     "text": [
      "              precision    recall  f1-score   support\n",
      "\n",
      "           0       0.99      0.95      0.97     22361\n",
      "           1       0.37      0.71      0.49      1006\n",
      "\n",
      "    accuracy                           0.94     23367\n",
      "   macro avg       0.68      0.83      0.73     23367\n",
      "weighted avg       0.96      0.94      0.95     23367\n",
      "\n"
     ]
    }
   ],
   "source": [
    "# Classification report\n",
    "print(classification_report(y_test, pred))"
   ]
  },
  {
   "cell_type": "markdown",
   "metadata": {},
   "source": [
    "#### Although accuracy is 0.94, I am not sure whether it is good because this has an imbalanced dataset. However, recall of 1 is 0.71 while the precision of it is 0.37. So I would say that this model is not bad at least because recall is more important in this case. If the purpose is the accurate prediction, I will use boosting models, not logistic regression."
   ]
  },
  {
   "cell_type": "markdown",
   "metadata": {},
   "source": [
    "#### As a next step, I will conduct a linear regression to check whether 'assigned' makes the revenue large"
   ]
  },
  {
   "cell_type": "markdown",
   "metadata": {},
   "source": [
    "# Modeling 2 - Linear Regression with obervations having revenue"
   ]
  },
  {
   "cell_type": "markdown",
   "metadata": {},
   "source": [
    "#### In this step, I will check how much 'assigned' increase the revenue only among observations having revenue. That is, we already checked how much 'assigned' increases the probability of spending(sales) in the logistic regression model, and now, we will predict the amount of revenue increase related when it makes sales. I will deal with all of the data to check the overall effect later."
   ]
  },
  {
   "cell_type": "code",
   "execution_count": 39,
   "metadata": {},
   "outputs": [],
   "source": [
    "new_data = data[data['revenue_tf']==1]"
   ]
  },
  {
   "cell_type": "markdown",
   "metadata": {},
   "source": [
    "### Train and Test Split"
   ]
  },
  {
   "cell_type": "code",
   "execution_count": 40,
   "metadata": {},
   "outputs": [],
   "source": [
    "X = new_data.drop(['revenue','revenue_tf'],axis=1)\n",
    "y = new_data['revenue']\n",
    "\n",
    "X_train, X_test, y_train, y_test = train_test_split(X, y, test_size = 0.3, random_state=1014)\n",
    "X_columns = X_train.columns"
   ]
  },
  {
   "cell_type": "markdown",
   "metadata": {},
   "source": [
    "### Implementing the model"
   ]
  },
  {
   "cell_type": "code",
   "execution_count": 41,
   "metadata": {},
   "outputs": [],
   "source": [
    "reg = sm.OLS(y_train,X_train)\n",
    "result = reg.fit()"
   ]
  },
  {
   "cell_type": "code",
   "execution_count": 42,
   "metadata": {
    "scrolled": false
   },
   "outputs": [
    {
     "name": "stdout",
     "output_type": "stream",
     "text": [
      "                                 OLS Regression Results                                \n",
      "=======================================================================================\n",
      "Dep. Variable:                revenue   R-squared (uncentered):                   0.156\n",
      "Model:                            OLS   Adj. R-squared (uncentered):              0.155\n",
      "Method:                 Least Squares   F-statistic:                              108.0\n",
      "Date:                Sun, 19 Jan 2020   Prob (F-statistic):                    1.63e-84\n",
      "Time:                        17:50:32   Log-Likelihood:                         -46947.\n",
      "No. Observations:                2337   AIC:                                  9.390e+04\n",
      "Df Residuals:                    2333   BIC:                                  9.393e+04\n",
      "Df Model:                           4                                                  \n",
      "Covariance Type:            nonrobust                                                  \n",
      "==================================================================================\n",
      "                     coef    std err          t      P>|t|      [0.025      0.975]\n",
      "----------------------------------------------------------------------------------\n",
      "assigned        4.935e+07   5.73e+06      8.619      0.000    3.81e+07    6.06e+07\n",
      "date_created     -73.2980    371.246     -0.197      0.844    -801.304     654.708\n",
      "assign_days      1.13e+05    4.7e+04      2.405      0.016    2.09e+04    2.05e+05\n",
      "previous_sales  1.903e+07   6.02e+06      3.162      0.002    7.23e+06    3.08e+07\n",
      "==============================================================================\n",
      "Omnibus:                     3547.013   Durbin-Watson:                   2.058\n",
      "Prob(Omnibus):                  0.000   Jarque-Bera (JB):          1567809.613\n",
      "Skew:                           9.254   Prob(JB):                         0.00\n",
      "Kurtosis:                     128.532   Cond. No.                     4.27e+04\n",
      "==============================================================================\n",
      "\n",
      "Warnings:\n",
      "[1] Standard Errors assume that the covariance matrix of the errors is correctly specified.\n",
      "[2] The condition number is large, 4.27e+04. This might indicate that there are\n",
      "strong multicollinearity or other numerical problems.\n"
     ]
    }
   ],
   "source": [
    "print(result.summary())"
   ]
  },
  {
   "cell_type": "markdown",
   "metadata": {},
   "source": [
    "#### At first, adjusted R-squared is 0.15 which means a weak model, but we can still use coefficient values for inference if the p-value is low enough. The ordinary standard of the p-value is 0.05, and the p-value of 'assigned' is 0.000. So, I could say that this is strong evidence.\n",
    "\n",
    "#### If the lead is assigned, the average revenue increases by 49,350,000. Therefore, I would say that sales intervention contributes to increasing revenue. The 'previous_sales' feature is also important. In the case of leads having previous sales records, the revenue is higher by 19,030,000. "
   ]
  },
  {
   "cell_type": "code",
   "execution_count": 43,
   "metadata": {
    "scrolled": false
   },
   "outputs": [
    {
     "data": {
      "text/html": [
       "<div>\n",
       "<style scoped>\n",
       "    .dataframe tbody tr th:only-of-type {\n",
       "        vertical-align: middle;\n",
       "    }\n",
       "\n",
       "    .dataframe tbody tr th {\n",
       "        vertical-align: top;\n",
       "    }\n",
       "\n",
       "    .dataframe thead th {\n",
       "        text-align: right;\n",
       "    }\n",
       "</style>\n",
       "<table border=\"1\" class=\"dataframe\">\n",
       "  <thead>\n",
       "    <tr style=\"text-align: right;\">\n",
       "      <th></th>\n",
       "      <th>date_created</th>\n",
       "      <th>assign_days</th>\n",
       "      <th>revenue</th>\n",
       "      <th>previous_sales</th>\n",
       "      <th>revenue_tf</th>\n",
       "    </tr>\n",
       "    <tr>\n",
       "      <th>assigned</th>\n",
       "      <th></th>\n",
       "      <th></th>\n",
       "      <th></th>\n",
       "      <th></th>\n",
       "      <th></th>\n",
       "    </tr>\n",
       "  </thead>\n",
       "  <tbody>\n",
       "    <tr>\n",
       "      <th>0</th>\n",
       "      <td>17186.851486</td>\n",
       "      <td>124.017936</td>\n",
       "      <td>8.789278e+05</td>\n",
       "      <td>0.037416</td>\n",
       "      <td>0.043469</td>\n",
       "    </tr>\n",
       "    <tr>\n",
       "      <th>1</th>\n",
       "      <td>16560.213247</td>\n",
       "      <td>116.594487</td>\n",
       "      <td>3.238846e+06</td>\n",
       "      <td>0.130316</td>\n",
       "      <td>0.042207</td>\n",
       "    </tr>\n",
       "  </tbody>\n",
       "</table>\n",
       "</div>"
      ],
      "text/plain": [
       "          date_created  assign_days       revenue  previous_sales  revenue_tf\n",
       "assigned                                                                     \n",
       "0         17186.851486   124.017936  8.789278e+05        0.037416    0.043469\n",
       "1         16560.213247   116.594487  3.238846e+06        0.130316    0.042207"
      ]
     },
     "execution_count": 43,
     "metadata": {},
     "output_type": "execute_result"
    }
   ],
   "source": [
    "data.groupby('assigned').mean()"
   ]
  },
  {
   "cell_type": "markdown",
   "metadata": {},
   "source": [
    "#### As you can see, the previous_sales is 0.13 in the assigned group while it is 0.037 in the unassigned group. Considering all of the facts, I think that the 'assigned' feature is the main factor for the difference of the revenue between two groups, and the 'previous_sales' feature is a second important one."
   ]
  },
  {
   "cell_type": "markdown",
   "metadata": {},
   "source": [
    "# Modeling 3 - Linear Regression with all data\n",
    "\n",
    "#### In this step, I will put all the data. That is, this modeling will include the results from modeling 1 as well as modeling 2. By doing so, we will define how much the 'assigned' variable contributes to the revenue totally, and which feature is more important related to the revenue."
   ]
  },
  {
   "cell_type": "code",
   "execution_count": 44,
   "metadata": {},
   "outputs": [],
   "source": [
    "X = data.drop(['revenue','revenue_tf'],axis=1)\n",
    "y = data['revenue']\n",
    "\n",
    "X_train, X_test, y_train, y_test = train_test_split(X, y, test_size = 0.3, random_state=1014)\n",
    "X_columns = X_train.columns"
   ]
  },
  {
   "cell_type": "code",
   "execution_count": 45,
   "metadata": {},
   "outputs": [
    {
     "name": "stdout",
     "output_type": "stream",
     "text": [
      "                                 OLS Regression Results                                \n",
      "=======================================================================================\n",
      "Dep. Variable:                revenue   R-squared (uncentered):                   0.041\n",
      "Model:                            OLS   Adj. R-squared (uncentered):              0.041\n",
      "Method:                 Least Squares   F-statistic:                              579.7\n",
      "Date:                Sun, 19 Jan 2020   Prob (F-statistic):                        0.00\n",
      "Time:                        17:51:31   Log-Likelihood:                     -1.0128e+06\n",
      "No. Observations:               54523   AIC:                                  2.026e+06\n",
      "Df Residuals:                   54519   BIC:                                  2.026e+06\n",
      "Df Model:                           4                                                  \n",
      "Covariance Type:            nonrobust                                                  \n",
      "==================================================================================\n",
      "                     coef    std err          t      P>|t|      [0.025      0.975]\n",
      "----------------------------------------------------------------------------------\n",
      "assigned        5.479e+05   2.42e+05      2.264      0.024    7.36e+04    1.02e+06\n",
      "date_created      21.2051     23.942      0.886      0.376     -25.720      68.131\n",
      "assign_days    -1914.7071   3031.885     -0.632      0.528   -7857.224    4027.810\n",
      "previous_sales   1.98e+07    4.5e+05     43.975      0.000    1.89e+07    2.07e+07\n",
      "==============================================================================\n",
      "Omnibus:                   161333.963   Durbin-Watson:                   2.004\n",
      "Prob(Omnibus):                  0.000   Jarque-Bera (JB):      15745365528.481\n",
      "Skew:                          42.266   Prob(JB):                         0.00\n",
      "Kurtosis:                    2634.286   Cond. No.                     6.32e+04\n",
      "==============================================================================\n",
      "\n",
      "Warnings:\n",
      "[1] Standard Errors assume that the covariance matrix of the errors is correctly specified.\n",
      "[2] The condition number is large, 6.32e+04. This might indicate that there are\n",
      "strong multicollinearity or other numerical problems.\n"
     ]
    }
   ],
   "source": [
    "reg = sm.OLS(y_train,X_train)\n",
    "result = reg.fit()\n",
    "\n",
    "print(result.summary())"
   ]
  },
  {
   "cell_type": "markdown",
   "metadata": {},
   "source": [
    "#### Based on P < 0.05, 'assigned' and 'previous_sales' are meaningful features here, but among them, the coefficient of 'previous_sales', 19,800,000, outweighs that of 'assigned', 547,900. Therefore, I could say the 'previous_sales' variable is more important for higher revenue, although sales intervention somewhat contributes to the revenue."
   ]
  }
 ],
 "metadata": {
  "kernelspec": {
   "display_name": "Python 3",
   "language": "python",
   "name": "python3"
  },
  "language_info": {
   "codemirror_mode": {
    "name": "ipython",
    "version": 3
   },
   "file_extension": ".py",
   "mimetype": "text/x-python",
   "name": "python",
   "nbconvert_exporter": "python",
   "pygments_lexer": "ipython3",
   "version": "3.7.3"
  }
 },
 "nbformat": 4,
 "nbformat_minor": 2
}
